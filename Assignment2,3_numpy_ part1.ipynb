{
 "cells": [
  {
   "cell_type": "markdown",
   "id": "d20b554d",
   "metadata": {},
   "source": [
    "TASK1"
   ]
  },
  {
   "cell_type": "code",
   "execution_count": 62,
   "id": "3862f7fe",
   "metadata": {},
   "outputs": [],
   "source": [
    "import numpy as  np\n",
    "import time"
   ]
  },
  {
   "cell_type": "code",
   "execution_count": 63,
   "id": "4924a978",
   "metadata": {},
   "outputs": [],
   "source": [
    "arr_1d=np.arange(1,11)"
   ]
  },
  {
   "cell_type": "code",
   "execution_count": 64,
   "id": "69d8c015",
   "metadata": {},
   "outputs": [
    {
     "data": {
      "text/plain": [
       "array([ 1,  2,  3,  4,  5,  6,  7,  8,  9, 10])"
      ]
     },
     "execution_count": 64,
     "metadata": {},
     "output_type": "execute_result"
    }
   ],
   "source": [
    "arr_1d"
   ]
  },
  {
   "cell_type": "code",
   "execution_count": 65,
   "id": "5f93d539",
   "metadata": {},
   "outputs": [],
   "source": [
    "arr_2d=np.arange(1,10).reshape(3,3)"
   ]
  },
  {
   "cell_type": "code",
   "execution_count": 66,
   "id": "be3f066f",
   "metadata": {},
   "outputs": [
    {
     "data": {
      "text/plain": [
       "array([[1, 2, 3],\n",
       "       [4, 5, 6],\n",
       "       [7, 8, 9]])"
      ]
     },
     "execution_count": 66,
     "metadata": {},
     "output_type": "execute_result"
    }
   ],
   "source": [
    "arr_2d"
   ]
  },
  {
   "cell_type": "code",
   "execution_count": 67,
   "id": "4abfbb7b",
   "metadata": {},
   "outputs": [
    {
     "data": {
      "text/plain": [
       "array([[[0.39217296, 0.04115659, 0.92330057],\n",
       "        [0.40623497, 0.94428218, 0.72272449],\n",
       "        [0.91831995, 0.82326754, 0.6468967 ],\n",
       "        [0.06793902, 0.83881577, 0.6928224 ],\n",
       "        [0.95799151, 0.14222247, 0.08777354]],\n",
       "\n",
       "       [[0.51887998, 0.35993237, 0.96027368],\n",
       "        [0.70377222, 0.44599407, 0.19220875],\n",
       "        [0.44288141, 0.46628642, 0.00914256],\n",
       "        [0.25721541, 0.2453717 , 0.38102144],\n",
       "        [0.42403833, 0.26753056, 0.11264625]],\n",
       "\n",
       "       [[0.13867957, 0.68820216, 0.95588973],\n",
       "        [0.34485436, 0.14278639, 0.2600578 ],\n",
       "        [0.15217505, 0.19473966, 0.66216051],\n",
       "        [0.38492733, 0.25045429, 0.58115791],\n",
       "        [0.89782395, 0.02442901, 0.59671877]]])"
      ]
     },
     "execution_count": 67,
     "metadata": {},
     "output_type": "execute_result"
    }
   ],
   "source": [
    "arr_3d=np.random.rand(3,5,3)\n",
    "arr_3d"
   ]
  },
  {
   "cell_type": "code",
   "execution_count": 68,
   "id": "d82a7b0e",
   "metadata": {},
   "outputs": [
    {
     "data": {
      "text/plain": [
       "(10,)"
      ]
     },
     "execution_count": 68,
     "metadata": {},
     "output_type": "execute_result"
    }
   ],
   "source": [
    "np.shape(arr_1d)\n"
   ]
  },
  {
   "cell_type": "code",
   "execution_count": 69,
   "id": "9ec547e0",
   "metadata": {},
   "outputs": [
    {
     "data": {
      "text/plain": [
       "(3, 3)"
      ]
     },
     "execution_count": 69,
     "metadata": {},
     "output_type": "execute_result"
    }
   ],
   "source": [
    "np.shape(arr_2d)"
   ]
  },
  {
   "cell_type": "code",
   "execution_count": 70,
   "id": "c4166cc0",
   "metadata": {},
   "outputs": [
    {
     "data": {
      "text/plain": [
       "(3, 5, 3)"
      ]
     },
     "execution_count": 70,
     "metadata": {},
     "output_type": "execute_result"
    }
   ],
   "source": [
    "np.shape(arr_3d)"
   ]
  },
  {
   "cell_type": "code",
   "execution_count": 71,
   "id": "2654aaa9",
   "metadata": {},
   "outputs": [
    {
     "data": {
      "text/plain": [
       "10"
      ]
     },
     "execution_count": 71,
     "metadata": {},
     "output_type": "execute_result"
    }
   ],
   "source": [
    "np.size(arr_1d)"
   ]
  },
  {
   "cell_type": "code",
   "execution_count": 72,
   "id": "46643c41",
   "metadata": {},
   "outputs": [
    {
     "data": {
      "text/plain": [
       "9"
      ]
     },
     "execution_count": 72,
     "metadata": {},
     "output_type": "execute_result"
    }
   ],
   "source": [
    "np.size(arr_2d)"
   ]
  },
  {
   "cell_type": "code",
   "execution_count": 73,
   "id": "33f69e04",
   "metadata": {},
   "outputs": [
    {
     "data": {
      "text/plain": [
       "45"
      ]
     },
     "execution_count": 73,
     "metadata": {},
     "output_type": "execute_result"
    }
   ],
   "source": [
    "np.size(arr_3d)"
   ]
  },
  {
   "cell_type": "code",
   "execution_count": 74,
   "id": "32539e97",
   "metadata": {},
   "outputs": [
    {
     "data": {
      "text/plain": [
       "dtype('int64')"
      ]
     },
     "execution_count": 74,
     "metadata": {},
     "output_type": "execute_result"
    }
   ],
   "source": [
    "arr_1d.dtype"
   ]
  },
  {
   "cell_type": "code",
   "execution_count": 75,
   "id": "51cb42db",
   "metadata": {},
   "outputs": [
    {
     "data": {
      "text/plain": [
       "dtype('int64')"
      ]
     },
     "execution_count": 75,
     "metadata": {},
     "output_type": "execute_result"
    }
   ],
   "source": [
    "arr_2d.dtype"
   ]
  },
  {
   "cell_type": "code",
   "execution_count": 76,
   "id": "b27e48ff",
   "metadata": {},
   "outputs": [
    {
     "data": {
      "text/plain": [
       "dtype('float64')"
      ]
     },
     "execution_count": 76,
     "metadata": {},
     "output_type": "execute_result"
    }
   ],
   "source": [
    "arr_3d.dtype"
   ]
  },
  {
   "cell_type": "markdown",
   "id": "876df1b1",
   "metadata": {},
   "source": [
    "Task2"
   ]
  },
  {
   "cell_type": "code",
   "execution_count": 77,
   "id": "3ab84f6a",
   "metadata": {},
   "outputs": [],
   "source": [
    "array=np.array([10,20,30,40,50,60,70,80,90])"
   ]
  },
  {
   "cell_type": "code",
   "execution_count": 78,
   "id": "8bf0253c",
   "metadata": {},
   "outputs": [
    {
     "data": {
      "text/plain": [
       "array([10, 20, 30])"
      ]
     },
     "execution_count": 78,
     "metadata": {},
     "output_type": "execute_result"
    }
   ],
   "source": [
    "array[0:3]"
   ]
  },
  {
   "cell_type": "code",
   "execution_count": 79,
   "id": "489e1d13",
   "metadata": {},
   "outputs": [
    {
     "data": {
      "text/plain": [
       "array([10, 30, 50, 70, 90])"
      ]
     },
     "execution_count": 79,
     "metadata": {},
     "output_type": "execute_result"
    }
   ],
   "source": [
    "array[0::2]"
   ]
  },
  {
   "cell_type": "code",
   "execution_count": 80,
   "id": "09e3ac00",
   "metadata": {},
   "outputs": [
    {
     "data": {
      "text/plain": [
       "array([90, 80, 70, 60, 50, 40, 30, 20, 10])"
      ]
     },
     "execution_count": 80,
     "metadata": {},
     "output_type": "execute_result"
    }
   ],
   "source": [
    "array[::-1]"
   ]
  },
  {
   "cell_type": "markdown",
   "id": "fe9465c6",
   "metadata": {},
   "source": [
    "Task 3"
   ]
  },
  {
   "cell_type": "code",
   "execution_count": 81,
   "id": "7e28e3cc",
   "metadata": {},
   "outputs": [],
   "source": [
    "arr1=np.random.randint(1,20,size=5)"
   ]
  },
  {
   "cell_type": "code",
   "execution_count": 82,
   "id": "93b28aa9",
   "metadata": {},
   "outputs": [],
   "source": [
    "arr2=np.random.randint(1,20,size=5)"
   ]
  },
  {
   "cell_type": "code",
   "execution_count": 83,
   "id": "bbfab0ec",
   "metadata": {},
   "outputs": [
    {
     "data": {
      "text/plain": [
       "array([17,  5,  5, 14,  8], dtype=int32)"
      ]
     },
     "execution_count": 83,
     "metadata": {},
     "output_type": "execute_result"
    }
   ],
   "source": [
    "arr1"
   ]
  },
  {
   "cell_type": "code",
   "execution_count": 84,
   "id": "10e28705",
   "metadata": {},
   "outputs": [
    {
     "data": {
      "text/plain": [
       "array([ 3, 12,  3,  8, 18], dtype=int32)"
      ]
     },
     "execution_count": 84,
     "metadata": {},
     "output_type": "execute_result"
    }
   ],
   "source": [
    "arr2"
   ]
  },
  {
   "cell_type": "code",
   "execution_count": 85,
   "id": "d80a4c1a",
   "metadata": {},
   "outputs": [],
   "source": [
    "add=arr1+arr2"
   ]
  },
  {
   "cell_type": "code",
   "execution_count": 86,
   "id": "6942758b",
   "metadata": {},
   "outputs": [
    {
     "data": {
      "text/plain": [
       "array([20, 17,  8, 22, 26], dtype=int32)"
      ]
     },
     "execution_count": 86,
     "metadata": {},
     "output_type": "execute_result"
    }
   ],
   "source": [
    "add"
   ]
  },
  {
   "cell_type": "code",
   "execution_count": 87,
   "id": "009b32a6",
   "metadata": {},
   "outputs": [
    {
     "data": {
      "text/plain": [
       "array([ 14,  -7,   2,   6, -10], dtype=int32)"
      ]
     },
     "execution_count": 87,
     "metadata": {},
     "output_type": "execute_result"
    }
   ],
   "source": [
    "sub=arr1-arr2\n",
    "sub"
   ]
  },
  {
   "cell_type": "code",
   "execution_count": 88,
   "id": "111f2e12",
   "metadata": {},
   "outputs": [],
   "source": [
    "mul=arr1*arr2"
   ]
  },
  {
   "cell_type": "code",
   "execution_count": 89,
   "id": "295b09d8",
   "metadata": {},
   "outputs": [
    {
     "data": {
      "text/plain": [
       "array([ 51,  60,  15, 112, 144], dtype=int32)"
      ]
     },
     "execution_count": 89,
     "metadata": {},
     "output_type": "execute_result"
    }
   ],
   "source": [
    "mul"
   ]
  },
  {
   "cell_type": "code",
   "execution_count": 90,
   "id": "2d119ea8",
   "metadata": {},
   "outputs": [
    {
     "data": {
      "text/plain": [
       "array([5.66666667, 0.41666667, 1.66666667, 1.75      , 0.44444444])"
      ]
     },
     "execution_count": 90,
     "metadata": {},
     "output_type": "execute_result"
    }
   ],
   "source": [
    "div=arr1/arr2\n",
    "div"
   ]
  },
  {
   "cell_type": "code",
   "execution_count": 91,
   "id": "3aefb91c",
   "metadata": {},
   "outputs": [
    {
     "data": {
      "text/plain": [
       "np.float64(9.8)"
      ]
     },
     "execution_count": 91,
     "metadata": {},
     "output_type": "execute_result"
    }
   ],
   "source": [
    "arr1.mean()"
   ]
  },
  {
   "cell_type": "code",
   "execution_count": 92,
   "id": "80205e52",
   "metadata": {},
   "outputs": [
    {
     "data": {
      "text/plain": [
       "np.float64(4.874423042781577)"
      ]
     },
     "execution_count": 92,
     "metadata": {},
     "output_type": "execute_result"
    }
   ],
   "source": [
    "arr1.std()"
   ]
  },
  {
   "cell_type": "code",
   "execution_count": 93,
   "id": "207da1cb",
   "metadata": {},
   "outputs": [
    {
     "data": {
      "text/plain": [
       "np.float64(23.76)"
      ]
     },
     "execution_count": 93,
     "metadata": {},
     "output_type": "execute_result"
    }
   ],
   "source": [
    "arr1.var()"
   ]
  },
  {
   "cell_type": "code",
   "execution_count": 94,
   "id": "34fef8d0",
   "metadata": {},
   "outputs": [
    {
     "data": {
      "text/plain": [
       "np.float64(8.0)"
      ]
     },
     "execution_count": 94,
     "metadata": {},
     "output_type": "execute_result"
    }
   ],
   "source": [
    "np.median(arr1)"
   ]
  },
  {
   "cell_type": "code",
   "execution_count": 95,
   "id": "3de35c27",
   "metadata": {},
   "outputs": [
    {
     "data": {
      "text/plain": [
       "np.int32(3)"
      ]
     },
     "execution_count": 95,
     "metadata": {},
     "output_type": "execute_result"
    }
   ],
   "source": [
    "arr2.min()"
   ]
  },
  {
   "cell_type": "code",
   "execution_count": 96,
   "id": "d27c6e67",
   "metadata": {},
   "outputs": [
    {
     "data": {
      "text/plain": [
       "np.int32(18)"
      ]
     },
     "execution_count": 96,
     "metadata": {},
     "output_type": "execute_result"
    }
   ],
   "source": [
    "arr2.max()"
   ]
  },
  {
   "cell_type": "markdown",
   "id": "388860f1",
   "metadata": {},
   "source": [
    "Task4"
   ]
  },
  {
   "cell_type": "code",
   "execution_count": 97,
   "id": "7b1af015",
   "metadata": {},
   "outputs": [
    {
     "data": {
      "text/plain": [
       "array([ 1,  2,  3,  4,  5,  6,  7,  8,  9, 10, 11, 12])"
      ]
     },
     "execution_count": 97,
     "metadata": {},
     "output_type": "execute_result"
    }
   ],
   "source": [
    "nums1=np.arange(1,13)\n",
    "nums1"
   ]
  },
  {
   "cell_type": "code",
   "execution_count": 98,
   "id": "d4f47dd3",
   "metadata": {},
   "outputs": [
    {
     "data": {
      "text/plain": [
       "array([[ 1,  2,  3],\n",
       "       [ 4,  5,  6],\n",
       "       [ 7,  8,  9],\n",
       "       [10, 11, 12]])"
      ]
     },
     "execution_count": 98,
     "metadata": {},
     "output_type": "execute_result"
    }
   ],
   "source": [
    "nums2=nums1.reshape(4,3)\n",
    "nums2"
   ]
  },
  {
   "cell_type": "code",
   "execution_count": 99,
   "id": "8cfc6cd7",
   "metadata": {},
   "outputs": [
    {
     "data": {
      "text/plain": [
       "array([[ 1,  4,  7, 10],\n",
       "       [ 2,  5,  8, 11],\n",
       "       [ 3,  6,  9, 12]])"
      ]
     },
     "execution_count": 99,
     "metadata": {},
     "output_type": "execute_result"
    }
   ],
   "source": [
    "nums2.T"
   ]
  },
  {
   "cell_type": "code",
   "execution_count": 100,
   "id": "8fbc7537",
   "metadata": {},
   "outputs": [
    {
     "data": {
      "text/plain": [
       "array([[[ 1,  2,  3],\n",
       "        [ 4,  5,  6]],\n",
       "\n",
       "       [[ 7,  8,  9],\n",
       "        [10, 11, 12]]])"
      ]
     },
     "execution_count": 100,
     "metadata": {},
     "output_type": "execute_result"
    }
   ],
   "source": [
    "nums1.reshape(2,2,3)"
   ]
  },
  {
   "cell_type": "markdown",
   "id": "c0de4f10",
   "metadata": {},
   "source": [
    "Task 5"
   ]
  },
  {
   "cell_type": "code",
   "execution_count": 101,
   "id": "3e1d57b0",
   "metadata": {},
   "outputs": [],
   "source": [
    "n1=np.random.randint(10,50,size=15)"
   ]
  },
  {
   "cell_type": "code",
   "execution_count": 102,
   "id": "78f7d590",
   "metadata": {},
   "outputs": [
    {
     "data": {
      "text/plain": [
       "array([44, 47, 24, 16, 11, 45, 23, 13, 45, 36, 32, 21, 40, 49, 12],\n",
       "      dtype=int32)"
      ]
     },
     "execution_count": 102,
     "metadata": {},
     "output_type": "execute_result"
    }
   ],
   "source": [
    "n1"
   ]
  },
  {
   "cell_type": "code",
   "execution_count": 103,
   "id": "7265be34",
   "metadata": {},
   "outputs": [
    {
     "data": {
      "text/plain": [
       "array([44, 47, 45, 45, 36, 32, 40, 49], dtype=int32)"
      ]
     },
     "execution_count": 103,
     "metadata": {},
     "output_type": "execute_result"
    }
   ],
   "source": [
    "n1[n1>25]"
   ]
  },
  {
   "cell_type": "code",
   "execution_count": 104,
   "id": "baa93822",
   "metadata": {},
   "outputs": [],
   "source": [
    "n1[n1<30]=0"
   ]
  },
  {
   "cell_type": "code",
   "execution_count": 105,
   "id": "c6a214e7",
   "metadata": {},
   "outputs": [],
   "source": [
    "v=n1[n1%5==0]"
   ]
  },
  {
   "cell_type": "code",
   "execution_count": 106,
   "id": "a9ad248e",
   "metadata": {},
   "outputs": [
    {
     "data": {
      "text/plain": [
       "10"
      ]
     },
     "execution_count": 106,
     "metadata": {},
     "output_type": "execute_result"
    }
   ],
   "source": [
    "len(v)"
   ]
  },
  {
   "cell_type": "markdown",
   "id": "998a5cde",
   "metadata": {},
   "source": [
    "Task 6"
   ]
  },
  {
   "cell_type": "code",
   "execution_count": 107,
   "id": "978e8e35",
   "metadata": {},
   "outputs": [],
   "source": [
    "ar=np.linspace(0,1,10)"
   ]
  },
  {
   "cell_type": "code",
   "execution_count": 108,
   "id": "b18eac1f",
   "metadata": {},
   "outputs": [
    {
     "data": {
      "text/plain": [
       "array([0.        , 0.11111111, 0.22222222, 0.33333333, 0.44444444,\n",
       "       0.55555556, 0.66666667, 0.77777778, 0.88888889, 1.        ])"
      ]
     },
     "execution_count": 108,
     "metadata": {},
     "output_type": "execute_result"
    }
   ],
   "source": [
    "ar"
   ]
  },
  {
   "cell_type": "code",
   "execution_count": 109,
   "id": "53acd141",
   "metadata": {},
   "outputs": [
    {
     "data": {
      "text/plain": [
       "array([[1., 0., 0., 0.],\n",
       "       [0., 1., 0., 0.],\n",
       "       [0., 0., 1., 0.],\n",
       "       [0., 0., 0., 1.]])"
      ]
     },
     "execution_count": 109,
     "metadata": {},
     "output_type": "execute_result"
    }
   ],
   "source": [
    "ar=np.identity(4)\n",
    "ar"
   ]
  },
  {
   "cell_type": "code",
   "execution_count": 110,
   "id": "0358a5fe",
   "metadata": {},
   "outputs": [
    {
     "data": {
      "text/plain": [
       "array([27, 65, 77,  9, 66, 48, 29, 54, 54, 25,  4, 32, 26, 51, 86, 58, 99,\n",
       "       79, 88, 54], dtype=int32)"
      ]
     },
     "execution_count": 110,
     "metadata": {},
     "output_type": "execute_result"
    }
   ],
   "source": [
    "n1=np.random.randint(1,100,size=20)\n",
    "n1"
   ]
  },
  {
   "cell_type": "markdown",
   "id": "73e15bd5",
   "metadata": {},
   "source": [
    "TASK 6"
   ]
  },
  {
   "cell_type": "code",
   "execution_count": 111,
   "id": "6435eb20",
   "metadata": {},
   "outputs": [],
   "source": [
    "arr=np.linspace(0,1,10)"
   ]
  },
  {
   "cell_type": "code",
   "execution_count": 112,
   "id": "512de2b7",
   "metadata": {},
   "outputs": [
    {
     "data": {
      "text/plain": [
       "array([0.        , 0.11111111, 0.22222222, 0.33333333, 0.44444444,\n",
       "       0.55555556, 0.66666667, 0.77777778, 0.88888889, 1.        ])"
      ]
     },
     "execution_count": 112,
     "metadata": {},
     "output_type": "execute_result"
    }
   ],
   "source": [
    "arr"
   ]
  },
  {
   "cell_type": "code",
   "execution_count": 113,
   "id": "9d568d78",
   "metadata": {},
   "outputs": [
    {
     "data": {
      "text/plain": [
       "array([[1., 0., 0., 0.],\n",
       "       [0., 1., 0., 0.],\n",
       "       [0., 0., 1., 0.],\n",
       "       [0., 0., 0., 1.]])"
      ]
     },
     "execution_count": 113,
     "metadata": {},
     "output_type": "execute_result"
    }
   ],
   "source": [
    "ar=np.identity(4)\n",
    "ar"
   ]
  },
  {
   "cell_type": "code",
   "execution_count": 114,
   "id": "39590842",
   "metadata": {},
   "outputs": [
    {
     "data": {
      "text/plain": [
       "array([54, 46, 65, 50,  5, 39, 88, 92, 81,  2, 68, 85, 99,  8, 81, 99, 15,\n",
       "       67, 21, 22], dtype=int32)"
      ]
     },
     "execution_count": 114,
     "metadata": {},
     "output_type": "execute_result"
    }
   ],
   "source": [
    "arr1=np.random.randint(1,100,size=20)\n",
    "arr1"
   ]
  },
  {
   "cell_type": "code",
   "execution_count": 115,
   "id": "9772bb7f",
   "metadata": {},
   "outputs": [],
   "source": [
    "arr1.sort()"
   ]
  },
  {
   "cell_type": "code",
   "execution_count": 116,
   "id": "19bd25a5",
   "metadata": {},
   "outputs": [
    {
     "data": {
      "text/plain": [
       "array([ 2,  5,  8, 15, 21, 22, 39, 46, 50, 54, 65, 67, 68, 81, 81, 85, 88,\n",
       "       92, 99, 99], dtype=int32)"
      ]
     },
     "execution_count": 116,
     "metadata": {},
     "output_type": "execute_result"
    }
   ],
   "source": [
    "arr1"
   ]
  },
  {
   "cell_type": "code",
   "execution_count": 117,
   "id": "3d6c3354",
   "metadata": {},
   "outputs": [
    {
     "data": {
      "text/plain": [
       "array([85, 88, 92, 99, 99], dtype=int32)"
      ]
     },
     "execution_count": 117,
     "metadata": {},
     "output_type": "execute_result"
    }
   ],
   "source": [
    "arr1[len(arr1)-5:len(arr1)]"
   ]
  },
  {
   "cell_type": "markdown",
   "id": "4d854735",
   "metadata": {},
   "source": [
    "TASK 7"
   ]
  },
  {
   "cell_type": "code",
   "execution_count": 118,
   "id": "818f7862",
   "metadata": {},
   "outputs": [],
   "source": [
    "np.random.seed(0)\n",
    "A = np.random.rand(100, 100)\n",
    "B = np.random.rand(100, 100)"
   ]
  },
  {
   "cell_type": "code",
   "execution_count": 119,
   "id": "894917e9",
   "metadata": {},
   "outputs": [],
   "source": [
    "start_time = time.time()\n",
    "C = np.dot(A, B) "
   ]
  },
  {
   "cell_type": "code",
   "execution_count": 120,
   "id": "52551054",
   "metadata": {},
   "outputs": [
    {
     "name": "stdout",
     "output_type": "stream",
     "text": [
      "Determinant of the result matrix: 6.0159e+50\n"
     ]
    }
   ],
   "source": [
    "try:\n",
    "    det_C = np.linalg.det(C)\n",
    "    print(f\"Determinant of the result matrix: {det_C:.4e}\")\n",
    "except np.linalg.LinAlgError:\n",
    "    print(\"Determinant could not be calculated.\")"
   ]
  },
  {
   "cell_type": "code",
   "execution_count": 121,
   "id": "0007238e",
   "metadata": {},
   "outputs": [
    {
     "name": "stdout",
     "output_type": "stream",
     "text": [
      "calculated\n"
     ]
    }
   ],
   "source": [
    "try:\n",
    "    inv=np.linalg.inv(C)\n",
    "    print(\"calculated\")\n",
    "except np.linalg.LinAlgError:\n",
    "    print('error')\n",
    "\n"
   ]
  },
  {
   "cell_type": "code",
   "execution_count": 122,
   "id": "188bb23c",
   "metadata": {},
   "outputs": [
    {
     "data": {
      "text/plain": [
       "0.10149145126342773"
      ]
     },
     "execution_count": 122,
     "metadata": {},
     "output_type": "execute_result"
    }
   ],
   "source": [
    "end_time = time.time()\n",
    "time_taken = end_time - start_time\n",
    "time_taken"
   ]
  },
  {
   "cell_type": "code",
   "execution_count": null,
   "id": "1f23b2e3",
   "metadata": {},
   "outputs": [],
   "source": []
  }
 ],
 "metadata": {
  "kernelspec": {
   "display_name": "base",
   "language": "python",
   "name": "python3"
  },
  "language_info": {
   "codemirror_mode": {
    "name": "ipython",
    "version": 3
   },
   "file_extension": ".py",
   "mimetype": "text/x-python",
   "name": "python",
   "nbconvert_exporter": "python",
   "pygments_lexer": "ipython3",
   "version": "3.13.5"
  }
 },
 "nbformat": 4,
 "nbformat_minor": 5
}
