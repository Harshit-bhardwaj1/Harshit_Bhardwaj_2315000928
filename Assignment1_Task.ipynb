{
 "cells": [
  {
   "cell_type": "markdown",
   "id": "73f40f88",
   "metadata": {},
   "source": [
    "TASK 1 (Make a custom exception)"
   ]
  },
  {
   "cell_type": "code",
   "execution_count": null,
   "id": "b1ff2d7f",
   "metadata": {},
   "outputs": [
    {
     "name": "stdout",
     "output_type": "stream",
     "text": [
      "Custom Exception Caught: Invalid mark: 105\n"
     ]
    }
   ],
   "source": [
    "class InvalidMarkError(Exception):\n",
    "    def __init__(self, message=\"Marks should be between 0 and 100\"):\n",
    "        self.message = message\n",
    "        super().__init__(self.message)\n",
    "\n",
    "def check_marks(mark):\n",
    "    if mark < 0 or mark > 100:\n",
    "        raise InvalidMarkError(f\"Invalid mark: {mark}\")\n",
    "    else:\n",
    "        print(f\"Valid mark: {mark}\")\n",
    "\n",
    "try:\n",
    "    check_marks(105)\n",
    "except InvalidMarkError as e:\n",
    "    print(\"Custom Exception Caught:\", e)\n"
   ]
  },
  {
   "cell_type": "markdown",
   "id": "59c1d05f",
   "metadata": {},
   "source": [
    "TASK 2 (Make a 2-d array and read and write it in a csv format)"
   ]
  },
  {
   "cell_type": "code",
   "execution_count": 1,
   "id": "482034b7",
   "metadata": {},
   "outputs": [
    {
     "name": "stdout",
     "output_type": "stream",
     "text": [
      "2D array written to 'student_scores.csv'.\n",
      "\n",
      "Read from CSV:\n",
      "\n",
      "   Math  Science  English  Computer\n",
      "0    85       90       78        92\n",
      "1    88       76       85        80\n",
      "2    90       91       89        87\n",
      "3    75       78       72        70\n",
      "4    88       85       84        86\n"
     ]
    }
   ],
   "source": [
    "import numpy as np\n",
    "import pandas as pd\n",
    "array_2d = np.array([\n",
    "    [85, 90, 78, 92],\n",
    "    [88, 76, 85, 80],\n",
    "    [90, 91, 89, 87],\n",
    "    [75, 78, 72, 70],\n",
    "    [88, 85, 84, 86]\n",
    "])\n",
    "\n",
    "df = pd.DataFrame(array_2d, columns=['Math', 'Science', 'English', 'Computer'])\n",
    "\n",
    "df.to_csv('student_scores.csv', index=False)\n",
    "print(\"2D array written to 'student_scores.csv'.\")\n",
    "\n",
    "df_read = pd.read_csv('student_scores.csv')\n",
    "print(\"\\nRead from CSV:\\n\")\n",
    "print(df_read)"
   ]
  }
 ],
 "metadata": {
  "kernelspec": {
   "display_name": "Python 3",
   "language": "python",
   "name": "python3"
  },
  "language_info": {
   "codemirror_mode": {
    "name": "ipython",
    "version": 3
   },
   "file_extension": ".py",
   "mimetype": "text/x-python",
   "name": "python",
   "nbconvert_exporter": "python",
   "pygments_lexer": "ipython3",
   "version": "3.13.5"
  }
 },
 "nbformat": 4,
 "nbformat_minor": 5
}
